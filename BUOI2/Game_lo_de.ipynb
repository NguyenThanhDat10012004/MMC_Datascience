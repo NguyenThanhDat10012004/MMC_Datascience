{
  "nbformat": 4,
  "nbformat_minor": 0,
  "metadata": {
    "colab": {
      "provenance": []
    },
    "kernelspec": {
      "name": "python3",
      "display_name": "Python 3"
    },
    "language_info": {
      "name": "python"
    }
  },
  "cells": [
    {
      "cell_type": "code",
      "source": [
        "def ThoatGame():\n",
        "  print(\"Cảm ơn bạn đã tham gia trò chơi\")"
      ],
      "metadata": {
        "id": "u4UkaodQZIhO"
      },
      "execution_count": 15,
      "outputs": []
    },
    {
      "cell_type": "code",
      "source": [],
      "metadata": {
        "id": "kchElpLkqZ6-"
      },
      "execution_count": null,
      "outputs": []
    },
    {
      "cell_type": "code",
      "source": [
        "def NapTien(Money_play):\n",
        "  x = 0\n",
        "  while(1):\n",
        "    money = input(\"Mời bạn nhập số tiền muốn nạp, nhấn 0 để thoát: \")\n",
        "    try:\n",
        "      x = int(money)\n",
        "      if x == 0:\n",
        "        break\n",
        "      elif x > 0:\n",
        "        print(f\"Bạn đã nạp thành công:  {x}\")\n",
        "        return x\n",
        "      else:\n",
        "        print(\"Số tiền phải là số nguyên không âm.\")\n",
        "    except ValueError:\n",
        "      print(\"Bạn hãy nhập đúng định dạng số nguyên lớn hơn hoặc bằng 0.\")\n",
        "  return 0;\n",
        "\n",
        "\n"
      ],
      "metadata": {
        "id": "HVe7R9i1ZjXZ"
      },
      "execution_count": 40,
      "outputs": []
    },
    {
      "cell_type": "code",
      "source": [
        "def NhapSo():\n",
        "  x = 0\n",
        "  while(1):\n",
        "    x = input(\"Mời bạn nhập số lô muốn chơi, nhấn 0 để thoát: \")\n",
        "    try:\n",
        "      x = int(x)\n",
        "      if(x == 0): break;\n",
        "      if x < 10 or x > 99:\n",
        "        print(\"Bạn hãy nhập số muốn cược từ 10 -> 99 nhé !\")\n",
        "      else:\n",
        "        break;\n",
        "    except ValueError:\n",
        "      print(\"Hãy nhập đúng số từ 10 -> 99 nhé !\")\n",
        "  return x"
      ],
      "metadata": {
        "id": "KEQrQLRRhA6H"
      },
      "execution_count": 42,
      "outputs": []
    },
    {
      "cell_type": "code",
      "source": [
        "import random\n",
        "def quay_so():\n",
        "    # QUAY GIẢI NHẤT\n",
        "    GIAI_NHAT = random.randint(10,99)\n",
        "    # QUAY GIẢI NHÌ\n",
        "    GIAI_NHI = random.randint(10,99)\n",
        "    # QUAY GIẢI BA\n",
        "    GIAI_BA = random.randint(10,99)\n",
        "    # QUAY GIẢI TƯ\n",
        "    GIAI_TU = random.randint(10,99)\n",
        "    # QUAY GIẢI NĂM\n",
        "    GIAI_NAM = random.randint(10,99)\n",
        "    # QUAY GIẢI SÁU\n",
        "    GIAI_SAU = random.randint(10,99)\n",
        "    # QUAY GIẢI BẢY\n",
        "    GIAI_BAY = random.randint(10,99)\n",
        "    return [GIAI_NHAT, GIAI_NHI, GIAI_BA, GIAI_TU, GIAI_NAM, GIAI_SAU, GIAI_BAY]"
      ],
      "metadata": {
        "id": "mssfN8Yhj39r"
      },
      "execution_count": 49,
      "outputs": []
    },
    {
      "cell_type": "code",
      "source": [
        "def NhapSoTien(Money_play):\n",
        "  x = 0\n",
        "  while(1):\n",
        "    x = input(\"Mời bạn nhập số tiền muốn cược: \")\n",
        "    try:\n",
        "      x = int(x)\n",
        "      if x > Money_play:\n",
        "        print(\"Tài khoản của bạn không đủ\")\n",
        "      else:\n",
        "        break;\n",
        "    except ValueError:\n",
        "      print(\"Hãy nhập dưới dạng định số nguyên nhé\")\n",
        "  return x"
      ],
      "metadata": {
        "id": "cbKW8YXWlnTx"
      },
      "execution_count": 50,
      "outputs": []
    },
    {
      "cell_type": "code",
      "source": [
        "def ChoiLo(Money_play):\n",
        "  x = NhapSo()\n",
        "  if(x == 0):\n",
        "    return Money_play\n",
        "  Money = NhapSoTien(Money_play)\n",
        "  Money_play = Money_play - Money\n",
        "  Trung = 0\n",
        "\n",
        "  Giai = quay_so()\n",
        "  for i, x_T in enumerate(Giai):\n",
        "    print(f\"Giải {i} là: {x_T}\")\n",
        "    if(x == x_T): Trung = x_T\n",
        "  if (Trung != 0):\n",
        "    print(f\"Chúc mừng bạn đã trúng giải {Trung}, Với số tiền thưởng là: {Money * 70}\")\n",
        "    return Money_play + Money * 70\n",
        "  else:\n",
        "    print(\"Rất tiếc bạn chưa trúng rồi\")\n",
        "    return Money_play - Money\n",
        "\n",
        "\n",
        "\n",
        "\n"
      ],
      "metadata": {
        "id": "BumttXRVgs8E"
      },
      "execution_count": 60,
      "outputs": []
    },
    {
      "cell_type": "code",
      "execution_count": null,
      "metadata": {
        "colab": {
          "base_uri": "https://localhost:8080/"
        },
        "id": "HfeDDOeCXkpV",
        "outputId": "4aaeda49-1a32-444e-914c-5347c62ea8ce"
      },
      "outputs": [
        {
          "output_type": "stream",
          "name": "stdout",
          "text": [
            " ------------------------\n",
            "| GAME LÔ ĐỀ HỌC        |\n",
            "| 1. Chơi lô            |\n",
            "| 2. Nạp tiền           |\n",
            "| 3. Thoát Game         |\n",
            "| 4. Check money in tk  |\n",
            " ------------------------\n",
            "Mời bạn nhập số: 1\n",
            "Hãy nạp thêm tiền nhé\n",
            " ------------------------\n",
            "| GAME LÔ ĐỀ HỌC        |\n",
            "| 1. Chơi lô            |\n",
            "| 2. Nạp tiền           |\n",
            "| 3. Thoát Game         |\n",
            "| 4. Check money in tk  |\n",
            " ------------------------\n",
            "Mời bạn nhập số: 2\n",
            "Mời bạn nhập số tiền muốn nạp, nhấn 0 để thoát: 10000000\n",
            "Bạn đã nạp thành công:  10000000\n",
            " ------------------------\n",
            "| GAME LÔ ĐỀ HỌC        |\n",
            "| 1. Chơi lô            |\n",
            "| 2. Nạp tiền           |\n",
            "| 3. Thoát Game         |\n",
            "| 4. Check money in tk  |\n",
            " ------------------------\n",
            "Mời bạn nhập số: 1\n",
            "Mời bạn nhập số lô muốn chơi, nhấn 0 để thoát: 45\n",
            "Mời bạn nhập số tiền muốn cược: 100000\n",
            "Giải 0 là: 59\n",
            "Giải 1 là: 13\n",
            "Giải 2 là: 80\n",
            "Giải 3 là: 11\n",
            "Giải 4 là: 10\n",
            "Giải 5 là: 79\n",
            "Giải 6 là: 31\n",
            "Rất tiếc bạn chưa trúng rồi\n",
            " ------------------------\n",
            "| GAME LÔ ĐỀ HỌC        |\n",
            "| 1. Chơi lô            |\n",
            "| 2. Nạp tiền           |\n",
            "| 3. Thoát Game         |\n",
            "| 4. Check money in tk  |\n",
            " ------------------------\n",
            "Mời bạn nhập số: 4\n",
            "Số tiền còn lại của khách hàng là: 9800000\n",
            " ------------------------\n",
            "| GAME LÔ ĐỀ HỌC        |\n",
            "| 1. Chơi lô            |\n",
            "| 2. Nạp tiền           |\n",
            "| 3. Thoát Game         |\n",
            "| 4. Check money in tk  |\n",
            " ------------------------\n",
            "Mời bạn nhập số: 2\n",
            "Mời bạn nhập số tiền muốn nạp, nhấn 0 để thoát: 1\n",
            "Bạn đã nạp thành công:  1\n",
            " ------------------------\n",
            "| GAME LÔ ĐỀ HỌC        |\n",
            "| 1. Chơi lô            |\n",
            "| 2. Nạp tiền           |\n",
            "| 3. Thoát Game         |\n",
            "| 4. Check money in tk  |\n",
            " ------------------------\n",
            "Mời bạn nhập số: 4\n",
            "Số tiền còn lại của khách hàng là: 9800001\n",
            " ------------------------\n",
            "| GAME LÔ ĐỀ HỌC        |\n",
            "| 1. Chơi lô            |\n",
            "| 2. Nạp tiền           |\n",
            "| 3. Thoát Game         |\n",
            "| 4. Check money in tk  |\n",
            " ------------------------\n",
            "Mời bạn nhập số: 1\n",
            "Mời bạn nhập số lô muốn chơi, nhấn 0 để thoát: 10000000000000\n",
            "Bạn hãy nhập số muốn cược từ 10 -> 99 nhé !\n",
            "Mời bạn nhập số lô muốn chơi, nhấn 0 để thoát: 19\n",
            "Mời bạn nhập số tiền muốn cược: 1000000000000000000000000000\n",
            "Tài khoản của bạn không đủ\n",
            "Mời bạn nhập số tiền muốn cược: 1000\n",
            "Giải 0 là: 29\n",
            "Giải 1 là: 64\n",
            "Giải 2 là: 49\n",
            "Giải 3 là: 54\n",
            "Giải 4 là: 73\n",
            "Giải 5 là: 77\n",
            "Giải 6 là: 84\n",
            "Rất tiếc bạn chưa trúng rồi\n",
            " ------------------------\n",
            "| GAME LÔ ĐỀ HỌC        |\n",
            "| 1. Chơi lô            |\n",
            "| 2. Nạp tiền           |\n",
            "| 3. Thoát Game         |\n",
            "| 4. Check money in tk  |\n",
            " ------------------------\n",
            "Mời bạn nhập số: 4\n",
            "Số tiền còn lại của khách hàng là: 9798001\n",
            " ------------------------\n",
            "| GAME LÔ ĐỀ HỌC        |\n",
            "| 1. Chơi lô            |\n",
            "| 2. Nạp tiền           |\n",
            "| 3. Thoát Game         |\n",
            "| 4. Check money in tk  |\n",
            " ------------------------\n"
          ]
        }
      ],
      "source": [
        "Money_play = 0\n",
        "while(1):\n",
        "  print(\" ------------------------\")\n",
        "  print(\"| GAME LÔ ĐỀ HỌC        |\")\n",
        "  print(\"| 1. Chơi lô            |\")\n",
        "  print(\"| 2. Nạp tiền           |\")\n",
        "  print(\"| 3. Thoát Game         |\")\n",
        "  print(\"| 4. Check money in tk  |\")\n",
        "  print(\" ------------------------\")\n",
        "  number = input(\"Mời bạn nhập số: \")\n",
        "  if(int(number) == 1):\n",
        "    if(Money_play > 0): Money_play = ChoiLo(Money_play)\n",
        "    else: print(\"Hãy nạp thêm tiền nhé\")\n",
        "  elif (int(number) == 2):\n",
        "    x = NapTien(Money_play)\n",
        "    Money_play = x + Money_play\n",
        "  elif (int(number) == 3):\n",
        "    ThoatGame()\n",
        "    break;\n",
        "  elif( int(number) == 4):\n",
        "    print(f\"Số tiền còn lại của khách hàng là: {Money_play}\")\n",
        "  else:\n",
        "    print(\"Hãy nhập từ 1 -> 4 nhé !\")"
      ]
    }
  ]
}